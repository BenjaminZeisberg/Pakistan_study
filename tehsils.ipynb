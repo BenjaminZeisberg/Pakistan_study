{
 "cells": [
  {
   "cell_type": "code",
   "execution_count": 2,
   "metadata": {},
   "outputs": [],
   "source": [
    "import pandas as pd\n",
    "import scipy\n",
    "from shapely.wkt import loads\n",
    "import xarray as xr\n",
    "import numpy as np\n",
    "import folium.plugins as plugins\n",
    "import geopandas as gpd"
   ]
  },
  {
   "cell_type": "code",
   "execution_count": 14,
   "metadata": {},
   "outputs": [],
   "source": [
    "df_helena = pd.read_csv('helena_tehsils_correct.csv')\n",
    "table = gpd.read_file('coordinates/adm3/geoBoundaries-PAK-ADM3.dbf')\n",
    "df_adm3 = pd.DataFrame(table)\n",
    "table2 = gpd.read_file('coordinates/adm2/geoBoundaries-PAK-ADM2.dbf')\n",
    "df_adm2 = pd.DataFrame(table2)\n",
    "df_regions = pd.read_csv('shapeNamePolygons.csv')"
   ]
  },
  {
   "cell_type": "code",
   "execution_count": 18,
   "metadata": {},
   "outputs": [
    {
     "data": {
      "text/html": [
       "<div>\n",
       "<style scoped>\n",
       "    .dataframe tbody tr th:only-of-type {\n",
       "        vertical-align: middle;\n",
       "    }\n",
       "\n",
       "    .dataframe tbody tr th {\n",
       "        vertical-align: top;\n",
       "    }\n",
       "\n",
       "    .dataframe thead th {\n",
       "        text-align: right;\n",
       "    }\n",
       "</style>\n",
       "<table border=\"1\" class=\"dataframe\">\n",
       "  <thead>\n",
       "    <tr style=\"text-align: right;\">\n",
       "      <th></th>\n",
       "      <th>shapeName</th>\n",
       "      <th>shapeISO</th>\n",
       "      <th>shapeID</th>\n",
       "      <th>shapeGroup</th>\n",
       "      <th>shapeType</th>\n",
       "      <th>geometry</th>\n",
       "    </tr>\n",
       "  </thead>\n",
       "  <tbody>\n",
       "    <tr>\n",
       "      <th>0</th>\n",
       "      <td>BAGH</td>\n",
       "      <td>NaN</td>\n",
       "      <td>9618217B15374795339605</td>\n",
       "      <td>PAK</td>\n",
       "      <td>ADM3</td>\n",
       "      <td>POLYGON ((73.91750 34.01999, 73.93393 34.01103...</td>\n",
       "    </tr>\n",
       "    <tr>\n",
       "      <th>1</th>\n",
       "      <td>DHEERKOT</td>\n",
       "      <td>NaN</td>\n",
       "      <td>9618217B36543758176465</td>\n",
       "      <td>PAK</td>\n",
       "      <td>ADM3</td>\n",
       "      <td>MULTIPOLYGON (((73.69445 34.06935, 73.69492 34...</td>\n",
       "    </tr>\n",
       "    <tr>\n",
       "      <th>2</th>\n",
       "      <td>BARNALA</td>\n",
       "      <td>NaN</td>\n",
       "      <td>9618217B52678377884784</td>\n",
       "      <td>PAK</td>\n",
       "      <td>ADM3</td>\n",
       "      <td>POLYGON ((74.29135 33.03087, 74.29782 33.02683...</td>\n",
       "    </tr>\n",
       "    <tr>\n",
       "      <th>3</th>\n",
       "      <td>BHIMBER</td>\n",
       "      <td>NaN</td>\n",
       "      <td>9618217B77543092347595</td>\n",
       "      <td>PAK</td>\n",
       "      <td>ADM3</td>\n",
       "      <td>POLYGON ((74.17424 33.01268, 74.17424 33.00205...</td>\n",
       "    </tr>\n",
       "    <tr>\n",
       "      <th>4</th>\n",
       "      <td>SAMAHNI</td>\n",
       "      <td>NaN</td>\n",
       "      <td>9618217B53987596255132</td>\n",
       "      <td>PAK</td>\n",
       "      <td>ADM3</td>\n",
       "      <td>POLYGON ((74.29135 33.03087, 74.29106 33.03059...</td>\n",
       "    </tr>\n",
       "    <tr>\n",
       "      <th>...</th>\n",
       "      <td>...</td>\n",
       "      <td>...</td>\n",
       "      <td>...</td>\n",
       "      <td>...</td>\n",
       "      <td>...</td>\n",
       "      <td>...</td>\n",
       "    </tr>\n",
       "    <tr>\n",
       "      <th>549</th>\n",
       "      <td>KARACHI CANTONMENT</td>\n",
       "      <td>NaN</td>\n",
       "      <td>9618217B69772973278012</td>\n",
       "      <td>PAK</td>\n",
       "      <td>ADM3</td>\n",
       "      <td>POLYGON ((67.04754 24.83355, 67.04711 24.83365...</td>\n",
       "    </tr>\n",
       "    <tr>\n",
       "      <th>550</th>\n",
       "      <td>MANORA CANTONMENT</td>\n",
       "      <td>NaN</td>\n",
       "      <td>9618217B55413118042667</td>\n",
       "      <td>PAK</td>\n",
       "      <td>ADM3</td>\n",
       "      <td>POLYGON ((66.90154 24.84494, 66.90184 24.84533...</td>\n",
       "    </tr>\n",
       "    <tr>\n",
       "      <th>551</th>\n",
       "      <td>NEW KARACHI TOWN</td>\n",
       "      <td>NaN</td>\n",
       "      <td>9618217B18958240054573</td>\n",
       "      <td>PAK</td>\n",
       "      <td>ADM3</td>\n",
       "      <td>POLYGON ((67.05356 24.96486, 67.05356 24.96519...</td>\n",
       "    </tr>\n",
       "    <tr>\n",
       "      <th>552</th>\n",
       "      <td>KAMALIA</td>\n",
       "      <td>NaN</td>\n",
       "      <td>9618217B43963595698610</td>\n",
       "      <td>PAK</td>\n",
       "      <td>ADM3</td>\n",
       "      <td>POLYGON ((72.74010 30.74411, 72.74261 30.73839...</td>\n",
       "    </tr>\n",
       "    <tr>\n",
       "      <th>553</th>\n",
       "      <td>MIAN CHANNU</td>\n",
       "      <td>NaN</td>\n",
       "      <td>9618217B4340314046298</td>\n",
       "      <td>PAK</td>\n",
       "      <td>ADM3</td>\n",
       "      <td>POLYGON ((72.12924 30.49228, 72.12927 30.49231...</td>\n",
       "    </tr>\n",
       "  </tbody>\n",
       "</table>\n",
       "<p>554 rows × 6 columns</p>\n",
       "</div>"
      ],
      "text/plain": [
       "              shapeName  shapeISO                 shapeID shapeGroup  \\\n",
       "0                  BAGH       NaN  9618217B15374795339605        PAK   \n",
       "1              DHEERKOT       NaN  9618217B36543758176465        PAK   \n",
       "2               BARNALA       NaN  9618217B52678377884784        PAK   \n",
       "3               BHIMBER       NaN  9618217B77543092347595        PAK   \n",
       "4               SAMAHNI       NaN  9618217B53987596255132        PAK   \n",
       "..                  ...       ...                     ...        ...   \n",
       "549  KARACHI CANTONMENT       NaN  9618217B69772973278012        PAK   \n",
       "550   MANORA CANTONMENT       NaN  9618217B55413118042667        PAK   \n",
       "551    NEW KARACHI TOWN       NaN  9618217B18958240054573        PAK   \n",
       "552             KAMALIA       NaN  9618217B43963595698610        PAK   \n",
       "553         MIAN CHANNU       NaN   9618217B4340314046298        PAK   \n",
       "\n",
       "    shapeType                                           geometry  \n",
       "0        ADM3  POLYGON ((73.91750 34.01999, 73.93393 34.01103...  \n",
       "1        ADM3  MULTIPOLYGON (((73.69445 34.06935, 73.69492 34...  \n",
       "2        ADM3  POLYGON ((74.29135 33.03087, 74.29782 33.02683...  \n",
       "3        ADM3  POLYGON ((74.17424 33.01268, 74.17424 33.00205...  \n",
       "4        ADM3  POLYGON ((74.29135 33.03087, 74.29106 33.03059...  \n",
       "..        ...                                                ...  \n",
       "549      ADM3  POLYGON ((67.04754 24.83355, 67.04711 24.83365...  \n",
       "550      ADM3  POLYGON ((66.90154 24.84494, 66.90184 24.84533...  \n",
       "551      ADM3  POLYGON ((67.05356 24.96486, 67.05356 24.96519...  \n",
       "552      ADM3  POLYGON ((72.74010 30.74411, 72.74261 30.73839...  \n",
       "553      ADM3  POLYGON ((72.12924 30.49228, 72.12927 30.49231...  \n",
       "\n",
       "[554 rows x 6 columns]"
      ]
     },
     "execution_count": 18,
     "metadata": {},
     "output_type": "execute_result"
    }
   ],
   "source": [
    "df_adm3"
   ]
  },
  {
   "cell_type": "code",
   "execution_count": 19,
   "metadata": {},
   "outputs": [],
   "source": [
    "tehsils = df_adm3['shapeName'].apply(lambda x: x.lower())\n",
    "helena = df_helena['Tehsil'].apply(lambda x: x.lower())\n",
    "helena_correct = df_helena['Correct_Tehsil'].apply(lambda x: x.lower())\n",
    "common = list(set(helena) & set(tehsils))\n",
    "common_correct = list(set(helena_correct) & set(tehsils))"
   ]
  },
  {
   "cell_type": "code",
   "execution_count": 20,
   "metadata": {},
   "outputs": [
    {
     "name": "stdout",
     "output_type": "stream",
     "text": [
      "33\n",
      "40\n"
     ]
    }
   ],
   "source": [
    "common_2 = list(set(helena).intersection(tehsils))\n",
    "\n",
    "common_correct = list(set(helena_correct).intersection(tehsils))\n",
    "print(len(common_2))\n",
    "print(len(common_correct))"
   ]
  },
  {
   "cell_type": "code",
   "execution_count": 30,
   "metadata": {},
   "outputs": [
    {
     "data": {
      "text/plain": [
       "40"
      ]
     },
     "execution_count": 30,
     "metadata": {},
     "output_type": "execute_result"
    }
   ],
   "source": [
    "df_adm3['shapeName'] = df_adm3['shapeName'].apply(lambda x: x.lower())\n",
    "common = list(set(helena_correct).intersection(df_adm3['shapeName']))\n",
    "teh_interest = df_adm3[df_adm3['shapeName'].isin(common)]\n",
    "len(teh_interest)\n",
    "# filtered_df = df_main[df_main['A'].isin(df_filter['Filter_Column'])]"
   ]
  },
  {
   "cell_type": "code",
   "execution_count": null,
   "metadata": {},
   "outputs": [],
   "source": [
    "df_interest = df_adm3']]"
   ]
  },
  {
   "cell_type": "code",
   "execution_count": null,
   "metadata": {},
   "outputs": [
    {
     "name": "stdout",
     "output_type": "stream",
     "text": [
      "[]\n"
     ]
    }
   ],
   "source": [
    "uncommon = list(set(helena).difference(tehsils))\n",
    "uncommon_correct = list(set(helena_correct).difference(tehsils))\n",
    "# print(uncommon)\n",
    "print(uncommon_correct)\n",
    "# KHAIRPUR TAMEWALI"
   ]
  },
  {
   "cell_type": "code",
   "execution_count": null,
   "metadata": {},
   "outputs": [],
   "source": [
    "df_adm2 = df_adm2[['shapeName']]\n",
    "df_adm2.to_csv('df_adm2_shapeNames.csv')\n",
    "df_adm3 = df_adm3[['shapeName']]\n",
    "df_adm3.to_csv('df_adm3_shapeName.csv')"
   ]
  },
  {
   "cell_type": "markdown",
   "metadata": {},
   "source": [
    "See these:\n",
    "Helena File:\n",
    "- rahim yar khan,Rahim Yar Khan\n",
    "- rahim yar khan,Khanpur (Rahim Yar Khan)\n",
    "- dera ghazi khan,Dera Ghazi Khan\n",
    "- bahawalpur,Ahmadupr East\n",
    "\n",
    "Missing:\n",
    "- multan,Shuabad\n",
    "- rahim yar khan,Liaquatpur\n",
    "- lodhran,Dunyapur\n",
    "- lodhran,Kahror Pacca\n",
    "- bahawalpur,Kairpur Tamewali"
   ]
  },
  {
   "cell_type": "code",
   "execution_count": null,
   "metadata": {},
   "outputs": [],
   "source": [
    "# Rahim Yar Kahn - district have it\n",
    "# dera ghazi khan\n",
    "# bahawalpur \n",
    "# multan\n",
    "# rahim yar khan\n",
    "# iodrahn\n",
    "\n",
    "# Misspelling: \n",
    "# Dunya Pur -> Dunyapur is misspelled\n",
    "# KARORPACCA -> Kahror Pacca\n",
    "# KHAIRPUR TAMEWALI -> kairpur tamewali\n",
    "# LIAQAT PUR -> Liaquatpur\n",
    "# Shujabad -> Shuabad\n",
    "# Rahim Yar Khan\n",
    "# Khan Pur -> space between -> Khanpur\n",
    "# DERA GHAZI KHAN\n",
    "# AHMADPUR EAST -> Ahmadupr East"
   ]
  },
  {
   "cell_type": "code",
   "execution_count": null,
   "metadata": {},
   "outputs": [
    {
     "ename": "TypeError",
     "evalue": "'<' not supported between instances of 'list' and 'str'",
     "output_type": "error",
     "traceback": [
      "\u001b[0;31m---------------------------------------------------------------------------\u001b[0m",
      "\u001b[0;31mTypeError\u001b[0m                                 Traceback (most recent call last)",
      "Cell \u001b[0;32mIn[50], line 3\u001b[0m\n\u001b[1;32m      1\u001b[0m correct_spelled \u001b[39m=\u001b[39m [\u001b[39m'\u001b[39m\u001b[39mdunya pur\u001b[39m\u001b[39m'\u001b[39m, \u001b[39m'\u001b[39m\u001b[39mkarorpacca\u001b[39m\u001b[39m'\u001b[39m, \u001b[39m'\u001b[39m\u001b[39mKHAIRPUR TAMEWALI\u001b[39m\u001b[39m'\u001b[39m, \u001b[39m'\u001b[39m\u001b[39mLIAQAT PUR\u001b[39m\u001b[39m'\u001b[39m, \u001b[39m'\u001b[39m\u001b[39mShujabad\u001b[39m\u001b[39m'\u001b[39m, \u001b[39m'\u001b[39m\u001b[39mRahim Yar Khan\u001b[39m\u001b[39m'\u001b[39m, \u001b[39m'\u001b[39m\u001b[39mKhan Pur\u001b[39m\u001b[39m'\u001b[39m, \u001b[39m'\u001b[39m\u001b[39mDERA GHAZI KHAN\u001b[39m\u001b[39m'\u001b[39m, \u001b[39m'\u001b[39m\u001b[39mAHMADPUR EAST\u001b[39m\u001b[39m'\u001b[39m]\n\u001b[1;32m      2\u001b[0m common_2\u001b[39m.\u001b[39mappend(correct_spelled)\n\u001b[0;32m----> 3\u001b[0m common_2 \u001b[39m=\u001b[39m \u001b[39msorted\u001b[39;49m(common_2)\n\u001b[1;32m      4\u001b[0m correct \u001b[39m=\u001b[39m pd\u001b[39m.\u001b[39mDataFrame(common_2)\n\u001b[1;32m      5\u001b[0m \u001b[39m# correct = correct_spelled.apply(lambda x: x.lower())\u001b[39;00m\n",
      "\u001b[0;31mTypeError\u001b[0m: '<' not supported between instances of 'list' and 'str'"
     ]
    }
   ],
   "source": [
    "correct_spelled = ['dunya pur', 'karorpacca', 'KHAIRPUR TAMEWALI', 'LIAQAT PUR', 'Shujabad', 'Rahim Yar Khan', 'Khan Pur', 'DERA GHAZI KHAN', 'AHMADPUR EAST']\n",
    "common_2.append(correct_spelled)\n",
    "common_2 = sorted(common_2)\n",
    "correct = pd.DataFrame(common_2)\n",
    "# correct = correct_spelled.apply(lambda x: x.lower())\n",
    "correct"
   ]
  },
  {
   "cell_type": "code",
   "execution_count": null,
   "metadata": {},
   "outputs": [
    {
     "data": {
      "text/plain": [
       "['yazman',\n",
       " 'jalalpur pirwala',\n",
       " 'taunsa',\n",
       " 'multan saddar',\n",
       " 'burewala',\n",
       " 'alipur',\n",
       " 'sadiqabad',\n",
       " 'fort abbas',\n",
       " 'vehari',\n",
       " 'kot addu',\n",
       " 'rahim yar khan',\n",
       " 'hasilpur',\n",
       " 'jatoi',\n",
       " 'jampur',\n",
       " 'chaubara',\n",
       " 'bahawalpur',\n",
       " 'lodhran',\n",
       " 'layyah',\n",
       " 'muzaffargarh',\n",
       " 'multan city',\n",
       " 'haroonabad',\n",
       " 'rojhan',\n",
       " 'bahawalnagar',\n",
       " 'khanewal',\n",
       " 'karor lal esan',\n",
       " 'chishtian',\n",
       " 'kabirwala',\n",
       " 'rajanpur',\n",
       " 'minchinabad',\n",
       " 'jahanian',\n",
       " 'mailsi',\n",
       " 'dera ghazi khan',\n",
       " 'mian channu']"
      ]
     },
     "execution_count": 47,
     "metadata": {},
     "output_type": "execute_result"
    }
   ],
   "source": [
    "# common.append"
   ]
  },
  {
   "cell_type": "code",
   "execution_count": null,
   "metadata": {},
   "outputs": [
    {
     "data": {
      "text/plain": [
       "0             kairpur tamewali\n",
       "1                     hasilpur\n",
       "2                ahmadupr east\n",
       "3                       yazman\n",
       "4                   bahawalpur\n",
       "5                 bahawalnagar\n",
       "6                    chishtian\n",
       "7                   fort abbas\n",
       "8                   haroonabad\n",
       "9                  minchinabad\n",
       "10                muzaffargarh\n",
       "11                      taunsa\n",
       "12                    rajanpur\n",
       "13             dera ghazi khan\n",
       "14                      jampur\n",
       "15                 mian channu\n",
       "16                    khanewal\n",
       "17                    jahanian\n",
       "18                   kabirwala\n",
       "19                      layyah\n",
       "20              karor lal esan\n",
       "21                    chaubara\n",
       "22                kahror pacca\n",
       "23                     lodhran\n",
       "24                    dunyapur\n",
       "25                     shuabad\n",
       "26               multan saddar\n",
       "27            jalalpur pirwala\n",
       "28                 multan city\n",
       "29                       jatoi\n",
       "30                      alipur\n",
       "31                    kot addu\n",
       "32    khanpur (rahim yar khan)\n",
       "33                  liaquatpur\n",
       "34              rahim yar khan\n",
       "35                   sadiqabad\n",
       "36                      rojhan\n",
       "37                      mailsi\n",
       "38                    burewala\n",
       "39                      vehari\n",
       "Name: Tehsil, dtype: object"
      ]
     },
     "execution_count": 46,
     "metadata": {},
     "output_type": "execute_result"
    }
   ],
   "source": [
    "helena"
   ]
  },
  {
   "cell_type": "code",
   "execution_count": null,
   "metadata": {},
   "outputs": [],
   "source": []
  }
 ],
 "metadata": {
  "kernelspec": {
   "display_name": "pakistan",
   "language": "python",
   "name": "python3"
  },
  "language_info": {
   "codemirror_mode": {
    "name": "ipython",
    "version": 3
   },
   "file_extension": ".py",
   "mimetype": "text/x-python",
   "name": "python",
   "nbconvert_exporter": "python",
   "pygments_lexer": "ipython3",
   "version": "3.11.4"
  },
  "orig_nbformat": 4
 },
 "nbformat": 4,
 "nbformat_minor": 2
}
